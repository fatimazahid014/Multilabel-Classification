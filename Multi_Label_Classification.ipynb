{
  "nbformat": 4,
  "nbformat_minor": 0,
  "metadata": {
    "colab": {
      "provenance": [],
      "collapsed_sections": []
    },
    "kernelspec": {
      "name": "python3",
      "display_name": "Python 3"
    },
    "language_info": {
      "name": "python"
    }
  },
  "cells": [
    {
      "cell_type": "markdown",
      "source": [
        "## **Name:** Fatima Zahid\n",
        "## **CMS ID:** 294782\n",
        "\n",
        "## **Back Propagation: Multi-label Classification**"
      ],
      "metadata": {
        "id": "BRcwgxoxt2eH"
      }
    },
    {
      "cell_type": "markdown",
      "source": [
        "## Importing Libraries"
      ],
      "metadata": {
        "id": "kfVEW8VRuGI9"
      }
    },
    {
      "cell_type": "code",
      "execution_count": 17,
      "metadata": {
        "id": "3Gyp2bZfBnV-"
      },
      "outputs": [],
      "source": [
        "from sklearn.preprocessing import MultiLabelBinarizer\n",
        "from sklearn.model_selection import train_test_split\n",
        "import numpy as np\n",
        "import pandas as pd\n",
        "\n",
        "import keras \n",
        "import tensorflow as tf\n",
        "\n",
        "from tensorflow import keras\n",
        "from keras.models import Sequential\n",
        "from keras.layers import Dense\n",
        "\n",
        "from tensorflow.keras.utils import load_img, img_to_array\n",
        "from tensorflow.keras.preprocessing import image\n",
        "import matplotlib.pyplot as plt\n",
        "from tqdm import tqdm\n"
      ]
    },
    {
      "cell_type": "markdown",
      "source": [
        "### Linking with Google drive to access the dataset"
      ],
      "metadata": {
        "id": "idYbZm7ruJQX"
      }
    },
    {
      "cell_type": "code",
      "source": [
        "from google.colab import drive\n",
        "drive.mount('/content/drive/',force_remount=True)"
      ],
      "metadata": {
        "colab": {
          "base_uri": "https://localhost:8080/"
        },
        "id": "x8fQZDBcBsIz",
        "outputId": "b5abe58b-e54b-41bc-b00f-e38e91dbbe2b"
      },
      "execution_count": 24,
      "outputs": [
        {
          "output_type": "stream",
          "name": "stdout",
          "text": [
            "Mounted at /content/drive/\n"
          ]
        }
      ]
    },
    {
      "cell_type": "markdown",
      "source": [
        "## Loading data from drive"
      ],
      "metadata": {
        "id": "dgk0n1HbuNwP"
      }
    },
    {
      "cell_type": "code",
      "source": [
        "data = pd.read_csv('/content/drive/My Drive/multilabel_modified/multilabel_classification.csv')\n",
        "data.head()"
      ],
      "metadata": {
        "colab": {
          "base_uri": "https://localhost:8080/",
          "height": 206
        },
        "id": "dgQhO6XXCKuT",
        "outputId": "d00de9e6-7267-411b-fa9d-f0ad0cc6d6fb"
      },
      "execution_count": 25,
      "outputs": [
        {
          "output_type": "execute_result",
          "data": {
            "text/plain": [
              "   Image_Name   Classes  motorcycle  truck  boat  bus  cycle  sitar  ektara  \\\n",
              "0  image1.jpg      bus            0      0     0    1      0      0       0   \n",
              "1  image2.jpg     sitar           0      0     0    0      0      1       0   \n",
              "2  image3.jpg    flutes           0      0     0    0      0      0       0   \n",
              "3  image4.jpg      bus            0      0     0    1      0      0       0   \n",
              "4  image5.jpg       bus           0      0     0    1      0      0       0   \n",
              "\n",
              "   flutes  tabla  harmonium  \n",
              "0       0      0          0  \n",
              "1       0      0          0  \n",
              "2       1      0          0  \n",
              "3       0      0          0  \n",
              "4       0      0          0  "
            ],
            "text/html": [
              "\n",
              "  <div id=\"df-e12bd19b-713a-44bd-a885-75b3bfaf8aca\">\n",
              "    <div class=\"colab-df-container\">\n",
              "      <div>\n",
              "<style scoped>\n",
              "    .dataframe tbody tr th:only-of-type {\n",
              "        vertical-align: middle;\n",
              "    }\n",
              "\n",
              "    .dataframe tbody tr th {\n",
              "        vertical-align: top;\n",
              "    }\n",
              "\n",
              "    .dataframe thead th {\n",
              "        text-align: right;\n",
              "    }\n",
              "</style>\n",
              "<table border=\"1\" class=\"dataframe\">\n",
              "  <thead>\n",
              "    <tr style=\"text-align: right;\">\n",
              "      <th></th>\n",
              "      <th>Image_Name</th>\n",
              "      <th>Classes</th>\n",
              "      <th>motorcycle</th>\n",
              "      <th>truck</th>\n",
              "      <th>boat</th>\n",
              "      <th>bus</th>\n",
              "      <th>cycle</th>\n",
              "      <th>sitar</th>\n",
              "      <th>ektara</th>\n",
              "      <th>flutes</th>\n",
              "      <th>tabla</th>\n",
              "      <th>harmonium</th>\n",
              "    </tr>\n",
              "  </thead>\n",
              "  <tbody>\n",
              "    <tr>\n",
              "      <th>0</th>\n",
              "      <td>image1.jpg</td>\n",
              "      <td>bus</td>\n",
              "      <td>0</td>\n",
              "      <td>0</td>\n",
              "      <td>0</td>\n",
              "      <td>1</td>\n",
              "      <td>0</td>\n",
              "      <td>0</td>\n",
              "      <td>0</td>\n",
              "      <td>0</td>\n",
              "      <td>0</td>\n",
              "      <td>0</td>\n",
              "    </tr>\n",
              "    <tr>\n",
              "      <th>1</th>\n",
              "      <td>image2.jpg</td>\n",
              "      <td>sitar</td>\n",
              "      <td>0</td>\n",
              "      <td>0</td>\n",
              "      <td>0</td>\n",
              "      <td>0</td>\n",
              "      <td>0</td>\n",
              "      <td>1</td>\n",
              "      <td>0</td>\n",
              "      <td>0</td>\n",
              "      <td>0</td>\n",
              "      <td>0</td>\n",
              "    </tr>\n",
              "    <tr>\n",
              "      <th>2</th>\n",
              "      <td>image3.jpg</td>\n",
              "      <td>flutes</td>\n",
              "      <td>0</td>\n",
              "      <td>0</td>\n",
              "      <td>0</td>\n",
              "      <td>0</td>\n",
              "      <td>0</td>\n",
              "      <td>0</td>\n",
              "      <td>0</td>\n",
              "      <td>1</td>\n",
              "      <td>0</td>\n",
              "      <td>0</td>\n",
              "    </tr>\n",
              "    <tr>\n",
              "      <th>3</th>\n",
              "      <td>image4.jpg</td>\n",
              "      <td>bus</td>\n",
              "      <td>0</td>\n",
              "      <td>0</td>\n",
              "      <td>0</td>\n",
              "      <td>1</td>\n",
              "      <td>0</td>\n",
              "      <td>0</td>\n",
              "      <td>0</td>\n",
              "      <td>0</td>\n",
              "      <td>0</td>\n",
              "      <td>0</td>\n",
              "    </tr>\n",
              "    <tr>\n",
              "      <th>4</th>\n",
              "      <td>image5.jpg</td>\n",
              "      <td>bus</td>\n",
              "      <td>0</td>\n",
              "      <td>0</td>\n",
              "      <td>0</td>\n",
              "      <td>1</td>\n",
              "      <td>0</td>\n",
              "      <td>0</td>\n",
              "      <td>0</td>\n",
              "      <td>0</td>\n",
              "      <td>0</td>\n",
              "      <td>0</td>\n",
              "    </tr>\n",
              "  </tbody>\n",
              "</table>\n",
              "</div>\n",
              "      <button class=\"colab-df-convert\" onclick=\"convertToInteractive('df-e12bd19b-713a-44bd-a885-75b3bfaf8aca')\"\n",
              "              title=\"Convert this dataframe to an interactive table.\"\n",
              "              style=\"display:none;\">\n",
              "        \n",
              "  <svg xmlns=\"http://www.w3.org/2000/svg\" height=\"24px\"viewBox=\"0 0 24 24\"\n",
              "       width=\"24px\">\n",
              "    <path d=\"M0 0h24v24H0V0z\" fill=\"none\"/>\n",
              "    <path d=\"M18.56 5.44l.94 2.06.94-2.06 2.06-.94-2.06-.94-.94-2.06-.94 2.06-2.06.94zm-11 1L8.5 8.5l.94-2.06 2.06-.94-2.06-.94L8.5 2.5l-.94 2.06-2.06.94zm10 10l.94 2.06.94-2.06 2.06-.94-2.06-.94-.94-2.06-.94 2.06-2.06.94z\"/><path d=\"M17.41 7.96l-1.37-1.37c-.4-.4-.92-.59-1.43-.59-.52 0-1.04.2-1.43.59L10.3 9.45l-7.72 7.72c-.78.78-.78 2.05 0 2.83L4 21.41c.39.39.9.59 1.41.59.51 0 1.02-.2 1.41-.59l7.78-7.78 2.81-2.81c.8-.78.8-2.07 0-2.86zM5.41 20L4 18.59l7.72-7.72 1.47 1.35L5.41 20z\"/>\n",
              "  </svg>\n",
              "      </button>\n",
              "      \n",
              "  <style>\n",
              "    .colab-df-container {\n",
              "      display:flex;\n",
              "      flex-wrap:wrap;\n",
              "      gap: 12px;\n",
              "    }\n",
              "\n",
              "    .colab-df-convert {\n",
              "      background-color: #E8F0FE;\n",
              "      border: none;\n",
              "      border-radius: 50%;\n",
              "      cursor: pointer;\n",
              "      display: none;\n",
              "      fill: #1967D2;\n",
              "      height: 32px;\n",
              "      padding: 0 0 0 0;\n",
              "      width: 32px;\n",
              "    }\n",
              "\n",
              "    .colab-df-convert:hover {\n",
              "      background-color: #E2EBFA;\n",
              "      box-shadow: 0px 1px 2px rgba(60, 64, 67, 0.3), 0px 1px 3px 1px rgba(60, 64, 67, 0.15);\n",
              "      fill: #174EA6;\n",
              "    }\n",
              "\n",
              "    [theme=dark] .colab-df-convert {\n",
              "      background-color: #3B4455;\n",
              "      fill: #D2E3FC;\n",
              "    }\n",
              "\n",
              "    [theme=dark] .colab-df-convert:hover {\n",
              "      background-color: #434B5C;\n",
              "      box-shadow: 0px 1px 3px 1px rgba(0, 0, 0, 0.15);\n",
              "      filter: drop-shadow(0px 1px 2px rgba(0, 0, 0, 0.3));\n",
              "      fill: #FFFFFF;\n",
              "    }\n",
              "  </style>\n",
              "\n",
              "      <script>\n",
              "        const buttonEl =\n",
              "          document.querySelector('#df-e12bd19b-713a-44bd-a885-75b3bfaf8aca button.colab-df-convert');\n",
              "        buttonEl.style.display =\n",
              "          google.colab.kernel.accessAllowed ? 'block' : 'none';\n",
              "\n",
              "        async function convertToInteractive(key) {\n",
              "          const element = document.querySelector('#df-e12bd19b-713a-44bd-a885-75b3bfaf8aca');\n",
              "          const dataTable =\n",
              "            await google.colab.kernel.invokeFunction('convertToInteractive',\n",
              "                                                     [key], {});\n",
              "          if (!dataTable) return;\n",
              "\n",
              "          const docLinkHtml = 'Like what you see? Visit the ' +\n",
              "            '<a target=\"_blank\" href=https://colab.research.google.com/notebooks/data_table.ipynb>data table notebook</a>'\n",
              "            + ' to learn more about interactive tables.';\n",
              "          element.innerHTML = '';\n",
              "          dataTable['output_type'] = 'display_data';\n",
              "          await google.colab.output.renderOutput(dataTable, element);\n",
              "          const docLink = document.createElement('div');\n",
              "          docLink.innerHTML = docLinkHtml;\n",
              "          element.appendChild(docLink);\n",
              "        }\n",
              "      </script>\n",
              "    </div>\n",
              "  </div>\n",
              "  "
            ]
          },
          "metadata": {},
          "execution_count": 25
        }
      ]
    },
    {
      "cell_type": "code",
      "source": [
        "data.columns"
      ],
      "metadata": {
        "colab": {
          "base_uri": "https://localhost:8080/"
        },
        "id": "g1ZKeZS1JUx5",
        "outputId": "6a9def0d-9a75-477a-c963-a7526bfc09cb"
      },
      "execution_count": 26,
      "outputs": [
        {
          "output_type": "execute_result",
          "data": {
            "text/plain": [
              "Index(['Image_Name', 'Classes', 'motorcycle', 'truck', 'boat', 'bus', 'cycle',\n",
              "       'sitar', 'ektara', 'flutes', 'tabla', 'harmonium'],\n",
              "      dtype='object')"
            ]
          },
          "metadata": {},
          "execution_count": 26
        }
      ]
    },
    {
      "cell_type": "markdown",
      "source": [
        "## Training images with the given labels"
      ],
      "metadata": {
        "id": "I7V0LFvhuS7e"
      }
    },
    {
      "cell_type": "code",
      "source": [
        "train_image = []\n",
        "#for i in tqdm(range(data.shape[0])):\n",
        "for i in tqdm(range(data.shape[0])):\n",
        "    img = image.load_img('/content/drive/My Drive/multilabel_modified/images/'+data['Image_Name'][i],target_size=(300,300,3))\n",
        "    img = image.img_to_array(img)\n",
        "    img = img/255\n",
        "    train_image.append(img)\n",
        "X = np.array(train_image)"
      ],
      "metadata": {
        "colab": {
          "base_uri": "https://localhost:8080/"
        },
        "id": "5z1AwGirJVP5",
        "outputId": "cd8dd006-6d01-48df-f84a-f401564ff7c3"
      },
      "execution_count": 27,
      "outputs": [
        {
          "output_type": "stream",
          "name": "stderr",
          "text": [
            "100%|██████████| 3000/3000 [00:44<00:00, 68.04it/s]\n"
          ]
        }
      ]
    },
    {
      "cell_type": "code",
      "source": [
        "X.shape"
      ],
      "metadata": {
        "colab": {
          "base_uri": "https://localhost:8080/"
        },
        "id": "-RsMZwptJYST",
        "outputId": "e8da6556-270f-449c-c58a-b75e2c3eae52"
      },
      "execution_count": 29,
      "outputs": [
        {
          "output_type": "execute_result",
          "data": {
            "text/plain": [
              "(3000, 300, 300, 3)"
            ]
          },
          "metadata": {},
          "execution_count": 29
        }
      ]
    },
    {
      "cell_type": "markdown",
      "source": [
        "## Labelling Images  through one hot encoding"
      ],
      "metadata": {
        "id": "jYpRkUzQvP9i"
      }
    },
    {
      "cell_type": "code",
      "source": [
        "plt.imshow(X[2005])"
      ],
      "metadata": {
        "colab": {
          "base_uri": "https://localhost:8080/",
          "height": 286
        },
        "id": "HwFWLeI3Jakp",
        "outputId": "b7263b9c-738b-4b48-c58b-fd82197ff88a"
      },
      "execution_count": 47,
      "outputs": [
        {
          "output_type": "execute_result",
          "data": {
            "text/plain": [
              "<matplotlib.image.AxesImage at 0x7f1cd0963610>"
            ]
          },
          "metadata": {},
          "execution_count": 47
        },
        {
          "output_type": "display_data",
          "data": {
            "text/plain": [
              "<Figure size 432x288 with 1 Axes>"
            ],
            "image/png": "[encoded data removed]"
          },
          "metadata": {
            "needs_background": "light"
          }
        }
      ]
    },
    {
      "cell_type": "code",
      "source": [
        "data['Classes'][2005]"
      ],
      "metadata": {
        "colab": {
          "base_uri": "https://localhost:8080/",
          "height": 36
        },
        "id": "HgDRH-8KJcvf",
        "outputId": "a0694d77-943e-4474-d5c6-28909ba62523"
      },
      "execution_count": 48,
      "outputs": [
        {
          "output_type": "execute_result",
          "data": {
            "text/plain": [
              "'  tabla harmonium'"
            ],
            "application/vnd.google.colaboratory.intrinsic+json": {
              "type": "string"
            }
          },
          "metadata": {},
          "execution_count": 48
        }
      ]
    },
    {
      "cell_type": "code",
      "source": [
        "y = np.array(data.drop(['Image_Name', 'Classes'],axis=1))\n",
        "y.shape"
      ],
      "metadata": {
        "colab": {
          "base_uri": "https://localhost:8080/"
        },
        "id": "AyppT8EfJgg6",
        "outputId": "6871add7-a09f-4732-c09a-403c781e127e"
      },
      "execution_count": 32,
      "outputs": [
        {
          "output_type": "execute_result",
          "data": {
            "text/plain": [
              "(3000, 10)"
            ]
          },
          "metadata": {},
          "execution_count": 32
        }
      ]
    },
    {
      "cell_type": "code",
      "source": [
        "X_train, X_test, y_train, y_test = train_test_split(X, y, test_size=0.20, random_state=21)"
      ],
      "metadata": {
        "id": "nzjtw-cHJiiO"
      },
      "execution_count": 33,
      "outputs": []
    },
    {
      "cell_type": "code",
      "source": [
        "model = keras.Sequential([\n",
        "  keras.layers.Flatten(input_shape = (300,300,3)),\n",
        "  keras.layers.Dense(128,activation = 'sigmoid'),   # hidden layer\n",
        "  keras.layers.Dense(64,activation = 'sigmoid'),   # hidden layer\n",
        "  keras.layers.Dense(10,activation = 'sigmoid'),   # output layer\n",
        "])\n",
        "\n",
        "# compiling the model\n",
        "model.compile(loss=\"binary_crossentropy\", optimizer=\"adam\", metrics=['accuracy'])"
      ],
      "metadata": {
        "id": "pgfoU9YnJjA6"
      },
      "execution_count": 34,
      "outputs": []
    },
    {
      "cell_type": "code",
      "source": [
        "history = model.fit(X_train, y_train, epochs=15, batch_size=32)"
      ],
      "metadata": {
        "colab": {
          "base_uri": "https://localhost:8080/"
        },
        "id": "RhpO8thuJmQ0",
        "outputId": "4c208168-4c09-4b49-ec1c-f97aadefcff2"
      },
      "execution_count": 35,
      "outputs": [
        {
          "output_type": "stream",
          "name": "stdout",
          "text": [
            "Epoch 1/15\n",
            "75/75 [==============================] - 21s 266ms/step - loss: 0.3418 - accuracy: 0.3425\n",
            "Epoch 2/15\n",
            "75/75 [==============================] - 15s 204ms/step - loss: 0.2886 - accuracy: 0.3708\n",
            "Epoch 3/15\n",
            "75/75 [==============================] - 15s 203ms/step - loss: 0.2875 - accuracy: 0.3708\n",
            "Epoch 4/15\n",
            "75/75 [==============================] - 19s 252ms/step - loss: 0.2871 - accuracy: 0.3708\n",
            "Epoch 5/15\n",
            "75/75 [==============================] - 16s 207ms/step - loss: 0.2867 - accuracy: 0.3708\n",
            "Epoch 6/15\n",
            "75/75 [==============================] - 15s 204ms/step - loss: 0.2866 - accuracy: 0.3708\n",
            "Epoch 7/15\n",
            "75/75 [==============================] - 18s 237ms/step - loss: 0.2865 - accuracy: 0.3708\n",
            "Epoch 8/15\n",
            "75/75 [==============================] - 15s 205ms/step - loss: 0.2869 - accuracy: 0.3708\n",
            "Epoch 9/15\n",
            "75/75 [==============================] - 15s 205ms/step - loss: 0.2868 - accuracy: 0.3708\n",
            "Epoch 10/15\n",
            "75/75 [==============================] - 18s 237ms/step - loss: 0.2866 - accuracy: 0.3708\n",
            "Epoch 11/15\n",
            "75/75 [==============================] - 15s 205ms/step - loss: 0.2865 - accuracy: 0.3708\n",
            "Epoch 12/15\n",
            "75/75 [==============================] - 15s 204ms/step - loss: 0.2864 - accuracy: 0.3708\n",
            "Epoch 13/15\n",
            "75/75 [==============================] - 17s 228ms/step - loss: 0.2865 - accuracy: 0.3708\n",
            "Epoch 14/15\n",
            "75/75 [==============================] - 15s 205ms/step - loss: 0.2866 - accuracy: 0.3708\n",
            "Epoch 15/15\n",
            "75/75 [==============================] - 15s 204ms/step - loss: 0.2864 - accuracy: 0.3708\n"
          ]
        }
      ]
    },
    {
      "cell_type": "code",
      "source": [
        "y_pred = model.predict(X_test)"
      ],
      "metadata": {
        "colab": {
          "base_uri": "https://localhost:8080/"
        },
        "id": "-jmemMTlJqcY",
        "outputId": "44d23c8c-5e36-43fa-b004-94e7e5ca7604"
      },
      "execution_count": 36,
      "outputs": [
        {
          "output_type": "stream",
          "name": "stdout",
          "text": [
            "19/19 [==============================] - 1s 64ms/step\n"
          ]
        }
      ]
    },
    {
      "cell_type": "code",
      "source": [
        "evaluation = model.evaluate(X_test, y_test)"
      ],
      "metadata": {
        "colab": {
          "base_uri": "https://localhost:8080/"
        },
        "id": "RwS0_Ug0Jq6R",
        "outputId": "67470a43-abb1-4532-e063-cc8dbfe5203a"
      },
      "execution_count": 37,
      "outputs": [
        {
          "output_type": "stream",
          "name": "stdout",
          "text": [
            "19/19 [==============================] - 1s 65ms/step - loss: 0.2929 - accuracy: 0.3333\n"
          ]
        }
      ]
    },
    {
      "cell_type": "code",
      "source": [
        "print(model.metrics_names)\n",
        "print(evaluation)"
      ],
      "metadata": {
        "colab": {
          "base_uri": "https://localhost:8080/"
        },
        "id": "ZUg8Rf4DJvcR",
        "outputId": "8fc1acec-dcc0-4cc6-ef2c-460381ccea4d"
      },
      "execution_count": 38,
      "outputs": [
        {
          "output_type": "stream",
          "name": "stdout",
          "text": [
            "['loss', 'accuracy']\n",
            "[0.29289335012435913, 0.3333333432674408]\n"
          ]
        }
      ]
    }
  ]
}